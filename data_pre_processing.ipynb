{
 "cells": [
  {
   "cell_type": "code",
   "execution_count": 4,
   "id": "86d667f4-61cf-4b02-abf1-fd0d0d96650f",
   "metadata": {
    "tags": []
   },
   "outputs": [],
   "source": [
    "import pandas as pd\n",
    "import json"
   ]
  },
  {
   "cell_type": "code",
   "execution_count": 19,
   "id": "e3df3dbe-8f09-44f5-8a09-6223c757e7d8",
   "metadata": {
    "tags": []
   },
   "outputs": [],
   "source": [
    "with open('data/raw_lst_questions/hilarious_elon_musk_tweets.json', 'r') as file:\n",
    "    elon_dict = json.load(file)\n",
    "\n",
    "df_elon = pd.DataFrame(list(elon_dict.items()), \n",
    "                       columns=['question', 'gpt4_answer'])\n",
    "\n",
    "df_elon.to_csv('data/processed/elon_hilarious_tweets.csv')"
   ]
  },
  {
   "cell_type": "code",
   "execution_count": 20,
   "id": "3c4052d7-3541-406f-8697-149852758077",
   "metadata": {
    "tags": []
   },
   "outputs": [
    {
     "data": {
      "text/html": [
       "<div>\n",
       "<style scoped>\n",
       "    .dataframe tbody tr th:only-of-type {\n",
       "        vertical-align: middle;\n",
       "    }\n",
       "\n",
       "    .dataframe tbody tr th {\n",
       "        vertical-align: top;\n",
       "    }\n",
       "\n",
       "    .dataframe thead th {\n",
       "        text-align: right;\n",
       "    }\n",
       "</style>\n",
       "<table border=\"1\" class=\"dataframe\">\n",
       "  <thead>\n",
       "    <tr style=\"text-align: right;\">\n",
       "      <th></th>\n",
       "      <th>question</th>\n",
       "      <th>gpt4_answer</th>\n",
       "    </tr>\n",
       "  </thead>\n",
       "  <tbody>\n",
       "    <tr>\n",
       "      <th>0</th>\n",
       "      <td>What are your thoughts on the current politica...</td>\n",
       "      <td>Just trying to figure out if my next car shoul...</td>\n",
       "    </tr>\n",
       "    <tr>\n",
       "      <th>1</th>\n",
       "      <td>How do you reconcile your luxury lifestyle wit...</td>\n",
       "      <td>I've decided to convert all my homes into gian...</td>\n",
       "    </tr>\n",
       "    <tr>\n",
       "      <th>2</th>\n",
       "      <td>What is your stance on the gender pay gap and ...</td>\n",
       "      <td>Paying everyone in Mars credits soon, so we ca...</td>\n",
       "    </tr>\n",
       "    <tr>\n",
       "      <th>3</th>\n",
       "      <td>How do you respond to the criticism about your...</td>\n",
       "      <td>I'm starting a new project: a time machine to ...</td>\n",
       "    </tr>\n",
       "    <tr>\n",
       "      <th>4</th>\n",
       "      <td>What is your opinion on the Black Lives Matter...</td>\n",
       "      <td>Thinking of painting all my rockets black in s...</td>\n",
       "    </tr>\n",
       "  </tbody>\n",
       "</table>\n",
       "</div>"
      ],
      "text/plain": [
       "                                            question  \\\n",
       "0  What are your thoughts on the current politica...   \n",
       "1  How do you reconcile your luxury lifestyle wit...   \n",
       "2  What is your stance on the gender pay gap and ...   \n",
       "3  How do you respond to the criticism about your...   \n",
       "4  What is your opinion on the Black Lives Matter...   \n",
       "\n",
       "                                         gpt4_answer  \n",
       "0  Just trying to figure out if my next car shoul...  \n",
       "1  I've decided to convert all my homes into gian...  \n",
       "2  Paying everyone in Mars credits soon, so we ca...  \n",
       "3  I'm starting a new project: a time machine to ...  \n",
       "4  Thinking of painting all my rockets black in s...  "
      ]
     },
     "execution_count": 20,
     "metadata": {},
     "output_type": "execute_result"
    }
   ],
   "source": [
    "df_elon.head()"
   ]
  },
  {
   "cell_type": "markdown",
   "id": "eef9b9a4-a060-4211-9201-2f00b7588f54",
   "metadata": {
    "tags": []
   },
   "source": [
    "### INSTRUCTION-BASED FINE TUNING"
   ]
  },
  {
   "cell_type": "code",
   "execution_count": 27,
   "id": "f17417db-c8c5-408a-9644-9904c073cd4f",
   "metadata": {
    "tags": []
   },
   "outputs": [],
   "source": [
    "instruction_prompt = '''INSTRUCTIONS: answer the question in a hilarious way as Elon Musk would do on Twitter. \n",
    "                                     Make the responses between 50 - 100 words long. Add emojis and hashtags to increase the reach and engagement.\n",
    "                                    \n",
    "                        QUESTION: {question}\n",
    "                        \n",
    "                        ANSWER: {answer}\n",
    "\n",
    "'''"
   ]
  },
  {
   "cell_type": "code",
   "execution_count": 26,
   "id": "6b7ce6d2-a86e-438a-adb2-eb4947f3d639",
   "metadata": {
    "tags": []
   },
   "outputs": [
    {
     "data": {
      "text/html": [
       "<div>\n",
       "<style scoped>\n",
       "    .dataframe tbody tr th:only-of-type {\n",
       "        vertical-align: middle;\n",
       "    }\n",
       "\n",
       "    .dataframe tbody tr th {\n",
       "        vertical-align: top;\n",
       "    }\n",
       "\n",
       "    .dataframe thead th {\n",
       "        text-align: right;\n",
       "    }\n",
       "</style>\n",
       "<table border=\"1\" class=\"dataframe\">\n",
       "  <thead>\n",
       "    <tr style=\"text-align: right;\">\n",
       "      <th></th>\n",
       "      <th>question</th>\n",
       "      <th>gpt4_answer</th>\n",
       "      <th>instructions</th>\n",
       "    </tr>\n",
       "  </thead>\n",
       "  <tbody>\n",
       "    <tr>\n",
       "      <th>0</th>\n",
       "      <td>What are your thoughts on the current politica...</td>\n",
       "      <td>Just trying to figure out if my next car shoul...</td>\n",
       "      <td>\\n                        INSTRUCTIONS: answer...</td>\n",
       "    </tr>\n",
       "    <tr>\n",
       "      <th>1</th>\n",
       "      <td>How do you reconcile your luxury lifestyle wit...</td>\n",
       "      <td>I've decided to convert all my homes into gian...</td>\n",
       "      <td>\\n                        INSTRUCTIONS: answer...</td>\n",
       "    </tr>\n",
       "    <tr>\n",
       "      <th>2</th>\n",
       "      <td>What is your stance on the gender pay gap and ...</td>\n",
       "      <td>Paying everyone in Mars credits soon, so we ca...</td>\n",
       "      <td>\\n                        INSTRUCTIONS: answer...</td>\n",
       "    </tr>\n",
       "    <tr>\n",
       "      <th>3</th>\n",
       "      <td>How do you respond to the criticism about your...</td>\n",
       "      <td>I'm starting a new project: a time machine to ...</td>\n",
       "      <td>\\n                        INSTRUCTIONS: answer...</td>\n",
       "    </tr>\n",
       "    <tr>\n",
       "      <th>4</th>\n",
       "      <td>What is your opinion on the Black Lives Matter...</td>\n",
       "      <td>Thinking of painting all my rockets black in s...</td>\n",
       "      <td>\\n                        INSTRUCTIONS: answer...</td>\n",
       "    </tr>\n",
       "    <tr>\n",
       "      <th>...</th>\n",
       "      <td>...</td>\n",
       "      <td>...</td>\n",
       "      <td>...</td>\n",
       "    </tr>\n",
       "    <tr>\n",
       "      <th>195</th>\n",
       "      <td>If you could instantly become an expert in som...</td>\n",
       "      <td>Expert in underwater basket weaving. It's surp...</td>\n",
       "      <td>\\n                        INSTRUCTIONS: answer...</td>\n",
       "    </tr>\n",
       "    <tr>\n",
       "      <th>196</th>\n",
       "      <td>What’s the funniest thing you've accidentally ...</td>\n",
       "      <td>'Elon Musk is secretly a Martian.' If only the...</td>\n",
       "      <td>\\n                        INSTRUCTIONS: answer...</td>\n",
       "    </tr>\n",
       "    <tr>\n",
       "      <th>197</th>\n",
       "      <td>If you could ban one word or phrase from all l...</td>\n",
       "      <td>'Impossible.' Because in my world, nothing is ...</td>\n",
       "      <td>\\n                        INSTRUCTIONS: answer...</td>\n",
       "    </tr>\n",
       "    <tr>\n",
       "      <th>198</th>\n",
       "      <td>What’s the strangest family tradition you have...</td>\n",
       "      <td>Eating pizza every time a rocket launches. It'...</td>\n",
       "      <td>\\n                        INSTRUCTIONS: answer...</td>\n",
       "    </tr>\n",
       "    <tr>\n",
       "      <th>199</th>\n",
       "      <td>If you were a ghost, who or where would you ha...</td>\n",
       "      <td>I'd haunt other tech CEOs, just to keep them o...</td>\n",
       "      <td>\\n                        INSTRUCTIONS: answer...</td>\n",
       "    </tr>\n",
       "  </tbody>\n",
       "</table>\n",
       "<p>200 rows × 3 columns</p>\n",
       "</div>"
      ],
      "text/plain": [
       "                                              question  \\\n",
       "0    What are your thoughts on the current politica...   \n",
       "1    How do you reconcile your luxury lifestyle wit...   \n",
       "2    What is your stance on the gender pay gap and ...   \n",
       "3    How do you respond to the criticism about your...   \n",
       "4    What is your opinion on the Black Lives Matter...   \n",
       "..                                                 ...   \n",
       "195  If you could instantly become an expert in som...   \n",
       "196  What’s the funniest thing you've accidentally ...   \n",
       "197  If you could ban one word or phrase from all l...   \n",
       "198  What’s the strangest family tradition you have...   \n",
       "199  If you were a ghost, who or where would you ha...   \n",
       "\n",
       "                                           gpt4_answer  \\\n",
       "0    Just trying to figure out if my next car shoul...   \n",
       "1    I've decided to convert all my homes into gian...   \n",
       "2    Paying everyone in Mars credits soon, so we ca...   \n",
       "3    I'm starting a new project: a time machine to ...   \n",
       "4    Thinking of painting all my rockets black in s...   \n",
       "..                                                 ...   \n",
       "195  Expert in underwater basket weaving. It's surp...   \n",
       "196  'Elon Musk is secretly a Martian.' If only the...   \n",
       "197  'Impossible.' Because in my world, nothing is ...   \n",
       "198  Eating pizza every time a rocket launches. It'...   \n",
       "199  I'd haunt other tech CEOs, just to keep them o...   \n",
       "\n",
       "                                          instructions  \n",
       "0    \\n                        INSTRUCTIONS: answer...  \n",
       "1    \\n                        INSTRUCTIONS: answer...  \n",
       "2    \\n                        INSTRUCTIONS: answer...  \n",
       "3    \\n                        INSTRUCTIONS: answer...  \n",
       "4    \\n                        INSTRUCTIONS: answer...  \n",
       "..                                                 ...  \n",
       "195  \\n                        INSTRUCTIONS: answer...  \n",
       "196  \\n                        INSTRUCTIONS: answer...  \n",
       "197  \\n                        INSTRUCTIONS: answer...  \n",
       "198  \\n                        INSTRUCTIONS: answer...  \n",
       "199  \\n                        INSTRUCTIONS: answer...  \n",
       "\n",
       "[200 rows x 3 columns]"
      ]
     },
     "execution_count": 26,
     "metadata": {},
     "output_type": "execute_result"
    }
   ],
   "source": [
    "df_elon['instructions'] = instruction_prompt\n",
    "df_elon"
   ]
  },
  {
   "cell_type": "code",
   "execution_count": null,
   "id": "5d54e6a5-6bf2-42db-941b-fecbc069a84b",
   "metadata": {},
   "outputs": [],
   "source": []
  }
 ],
 "metadata": {
  "kernelspec": {
   "display_name": "azureml",
   "language": "python",
   "name": "azureml"
  },
  "language_info": {
   "codemirror_mode": {
    "name": "ipython",
    "version": 3
   },
   "file_extension": ".py",
   "mimetype": "text/x-python",
   "name": "python",
   "nbconvert_exporter": "python",
   "pygments_lexer": "ipython3",
   "version": "3.7.0"
  }
 },
 "nbformat": 4,
 "nbformat_minor": 5
}
