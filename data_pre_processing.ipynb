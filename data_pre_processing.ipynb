{
 "cells": [
  {
   "cell_type": "code",
   "execution_count": 4,
   "id": "86d667f4-61cf-4b02-abf1-fd0d0d96650f",
   "metadata": {
    "tags": []
   },
   "outputs": [],
   "source": [
    "import pandas as pd\n",
    "import json"
   ]
  },
  {
   "cell_type": "code",
   "execution_count": 19,
   "id": "e3df3dbe-8f09-44f5-8a09-6223c757e7d8",
   "metadata": {
    "tags": []
   },
   "outputs": [],
   "source": [
    "with open('data/raw_lst_questions/hilarious_elon_musk_tweets.json', 'r') as file:\n",
    "    elon_dict = json.load(file)\n",
    "\n",
    "df_elon = pd.DataFrame(list(elon_dict.items()), \n",
    "                       columns=['question', 'gpt4_answer'])\n",
    "\n",
    "df_elon.to_csv('data/processed/elon_hilarious_tweets.csv')"
   ]
  },
  {
   "cell_type": "code",
   "execution_count": 20,
   "id": "3c4052d7-3541-406f-8697-149852758077",
   "metadata": {
    "tags": []
   },
   "outputs": [
    {
     "data": {
      "text/html": [
       "<div>\n",
       "<style scoped>\n",
       "    .dataframe tbody tr th:only-of-type {\n",
       "        vertical-align: middle;\n",
       "    }\n",
       "\n",
       "    .dataframe tbody tr th {\n",
       "        vertical-align: top;\n",
       "    }\n",
       "\n",
       "    .dataframe thead th {\n",
       "        text-align: right;\n",
       "    }\n",
       "</style>\n",
       "<table border=\"1\" class=\"dataframe\">\n",
       "  <thead>\n",
       "    <tr style=\"text-align: right;\">\n",
       "      <th></th>\n",
       "      <th>question</th>\n",
       "      <th>gpt4_answer</th>\n",
       "    </tr>\n",
       "  </thead>\n",
       "  <tbody>\n",
       "    <tr>\n",
       "      <th>0</th>\n",
       "      <td>What are your thoughts on the current politica...</td>\n",
       "      <td>Just trying to figure out if my next car shoul...</td>\n",
       "    </tr>\n",
       "    <tr>\n",
       "      <th>1</th>\n",
       "      <td>How do you reconcile your luxury lifestyle wit...</td>\n",
       "      <td>I've decided to convert all my homes into gian...</td>\n",
       "    </tr>\n",
       "    <tr>\n",
       "      <th>2</th>\n",
       "      <td>What is your stance on the gender pay gap and ...</td>\n",
       "      <td>Paying everyone in Mars credits soon, so we ca...</td>\n",
       "    </tr>\n",
       "    <tr>\n",
       "      <th>3</th>\n",
       "      <td>How do you respond to the criticism about your...</td>\n",
       "      <td>I'm starting a new project: a time machine to ...</td>\n",
       "    </tr>\n",
       "    <tr>\n",
       "      <th>4</th>\n",
       "      <td>What is your opinion on the Black Lives Matter...</td>\n",
       "      <td>Thinking of painting all my rockets black in s...</td>\n",
       "    </tr>\n",
       "  </tbody>\n",
       "</table>\n",
       "</div>"
      ],
      "text/plain": [
       "                                            question  \\\n",
       "0  What are your thoughts on the current politica...   \n",
       "1  How do you reconcile your luxury lifestyle wit...   \n",
       "2  What is your stance on the gender pay gap and ...   \n",
       "3  How do you respond to the criticism about your...   \n",
       "4  What is your opinion on the Black Lives Matter...   \n",
       "\n",
       "                                         gpt4_answer  \n",
       "0  Just trying to figure out if my next car shoul...  \n",
       "1  I've decided to convert all my homes into gian...  \n",
       "2  Paying everyone in Mars credits soon, so we ca...  \n",
       "3  I'm starting a new project: a time machine to ...  \n",
       "4  Thinking of painting all my rockets black in s...  "
      ]
     },
     "execution_count": 20,
     "metadata": {},
     "output_type": "execute_result"
    }
   ],
   "source": [
    "df_elon.head()"
   ]
  },
  {
   "cell_type": "code",
   "execution_count": 21,
   "id": "f17417db-c8c5-408a-9644-9904c073cd4f",
   "metadata": {
    "tags": []
   },
   "outputs": [],
   "source": []
  },
  {
   "cell_type": "code",
   "execution_count": null,
   "id": "6b7ce6d2-a86e-438a-adb2-eb4947f3d639",
   "metadata": {},
   "outputs": [],
   "source": []
  }
 ],
 "metadata": {
  "kernelspec": {
   "display_name": "azureml",
   "language": "python",
   "name": "azureml"
  },
  "language_info": {
   "codemirror_mode": {
    "name": "ipython",
    "version": 3
   },
   "file_extension": ".py",
   "mimetype": "text/x-python",
   "name": "python",
   "nbconvert_exporter": "python",
   "pygments_lexer": "ipython3",
   "version": "3.7.0"
  }
 },
 "nbformat": 4,
 "nbformat_minor": 5
}
