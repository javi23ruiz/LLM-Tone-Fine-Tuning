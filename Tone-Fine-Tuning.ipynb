{
 "cells": [
  {
   "cell_type": "code",
   "execution_count": 2,
   "id": "5d48cbd7-c06c-4b6e-ac9b-f5fe82f89a4c",
   "metadata": {
    "tags": []
   },
   "outputs": [
    {
     "name": "stdout",
     "output_type": "stream",
     "text": [
      "Collecting openai==1.1.0 (from -r requirements.txt (line 1))\n",
      "  Obtaining dependency information for openai==1.1.0 from https://files.pythonhosted.org/packages/77/b4/8de305dd47c13e3ac2e8eef6dc1ebc6f0884d4ac67af9f86d612c949ab63/openai-1.1.0-py3-none-any.whl.metadata\n",
      "  Downloading openai-1.1.0-py3-none-any.whl.metadata (16 kB)\n",
      "Collecting transformers==4.37.1 (from -r requirements.txt (line 2))\n",
      "  Obtaining dependency information for transformers==4.37.1 from https://files.pythonhosted.org/packages/ad/67/b4d6a51dcaf988cb45b31e26c6e33fb169fe34ba5fb168b086309bd7c028/transformers-4.37.1-py3-none-any.whl.metadata\n",
      "  Downloading transformers-4.37.1-py3-none-any.whl.metadata (129 kB)\n",
      "\u001b[2K     \u001b[90m━━━━━━━━━━━━━━━━━━━━━━━━━━━━━━━━━━━━━━━\u001b[0m \u001b[32m129.4/129.4 kB\u001b[0m \u001b[31m2.7 MB/s\u001b[0m eta \u001b[36m0:00:00\u001b[0ma \u001b[36m0:00:01\u001b[0m\n",
      "\u001b[?25hCollecting pandas==2.2.0 (from -r requirements.txt (line 3))\n",
      "  Obtaining dependency information for pandas==2.2.0 from https://files.pythonhosted.org/packages/ac/6b/11c0e4f5dec878a5eca77aa3b24215c49d2eda8d2cfd654a3f03a9f9d33a/pandas-2.2.0-cp311-cp311-macosx_10_9_x86_64.whl.metadata\n",
      "  Downloading pandas-2.2.0-cp311-cp311-macosx_10_9_x86_64.whl.metadata (19 kB)\n",
      "Collecting torch==2.1.2 (from -r requirements.txt (line 4))\n",
      "  Obtaining dependency information for torch==2.1.2 from https://files.pythonhosted.org/packages/dd/a0/6dd8662895ddaffb0ac689037451f93a73e9030d07b1b5965e3e3071f873/torch-2.1.2-cp311-none-macosx_10_9_x86_64.whl.metadata\n",
      "  Downloading torch-2.1.2-cp311-none-macosx_10_9_x86_64.whl.metadata (25 kB)\n",
      "Requirement already satisfied: anyio<4,>=3.5.0 in /Users/javierruiz/anaconda3/lib/python3.11/site-packages (from openai==1.1.0->-r requirements.txt (line 1)) (3.5.0)\n",
      "Collecting distro<2,>=1.7.0 (from openai==1.1.0->-r requirements.txt (line 1))\n",
      "  Obtaining dependency information for distro<2,>=1.7.0 from https://files.pythonhosted.org/packages/12/b3/231ffd4ab1fc9d679809f356cebee130ac7daa00d6d6f3206dd4fd137e9e/distro-1.9.0-py3-none-any.whl.metadata\n",
      "  Downloading distro-1.9.0-py3-none-any.whl.metadata (6.8 kB)\n",
      "Collecting httpx<1,>=0.23.0 (from openai==1.1.0->-r requirements.txt (line 1))\n",
      "  Obtaining dependency information for httpx<1,>=0.23.0 from https://files.pythonhosted.org/packages/39/9b/4937d841aee9c2c8102d9a4eeb800c7dad25386caabb4a1bf5010df81a57/httpx-0.26.0-py3-none-any.whl.metadata\n",
      "  Downloading httpx-0.26.0-py3-none-any.whl.metadata (7.6 kB)\n",
      "Requirement already satisfied: pydantic<3,>=1.9.0 in /Users/javierruiz/anaconda3/lib/python3.11/site-packages (from openai==1.1.0->-r requirements.txt (line 1)) (1.10.8)\n",
      "Requirement already satisfied: tqdm>4 in /Users/javierruiz/anaconda3/lib/python3.11/site-packages (from openai==1.1.0->-r requirements.txt (line 1)) (4.65.0)\n",
      "Requirement already satisfied: typing-extensions<5,>=4.5 in /Users/javierruiz/anaconda3/lib/python3.11/site-packages (from openai==1.1.0->-r requirements.txt (line 1)) (4.7.1)\n",
      "Requirement already satisfied: filelock in /Users/javierruiz/anaconda3/lib/python3.11/site-packages (from transformers==4.37.1->-r requirements.txt (line 2)) (3.9.0)\n",
      "Collecting huggingface-hub<1.0,>=0.19.3 (from transformers==4.37.1->-r requirements.txt (line 2))\n",
      "  Obtaining dependency information for huggingface-hub<1.0,>=0.19.3 from https://files.pythonhosted.org/packages/28/03/7d3c7153113ec59cfb31e3b8ee773f5f420a0dd7d26d40442542b96675c3/huggingface_hub-0.20.3-py3-none-any.whl.metadata\n",
      "  Downloading huggingface_hub-0.20.3-py3-none-any.whl.metadata (12 kB)\n",
      "Requirement already satisfied: numpy>=1.17 in /Users/javierruiz/anaconda3/lib/python3.11/site-packages (from transformers==4.37.1->-r requirements.txt (line 2)) (1.24.3)\n",
      "Requirement already satisfied: packaging>=20.0 in /Users/javierruiz/anaconda3/lib/python3.11/site-packages (from transformers==4.37.1->-r requirements.txt (line 2)) (23.1)\n",
      "Requirement already satisfied: pyyaml>=5.1 in /Users/javierruiz/anaconda3/lib/python3.11/site-packages (from transformers==4.37.1->-r requirements.txt (line 2)) (6.0)\n",
      "Requirement already satisfied: regex!=2019.12.17 in /Users/javierruiz/anaconda3/lib/python3.11/site-packages (from transformers==4.37.1->-r requirements.txt (line 2)) (2022.7.9)\n",
      "Requirement already satisfied: requests in /Users/javierruiz/anaconda3/lib/python3.11/site-packages (from transformers==4.37.1->-r requirements.txt (line 2)) (2.31.0)\n",
      "Collecting tokenizers<0.19,>=0.14 (from transformers==4.37.1->-r requirements.txt (line 2))\n",
      "  Obtaining dependency information for tokenizers<0.19,>=0.14 from https://files.pythonhosted.org/packages/0d/50/717e56e31b15dcd1e600528207f5faceb83e89178600f3e0bcd292329ae1/tokenizers-0.15.1-cp311-cp311-macosx_10_12_x86_64.whl.metadata\n",
      "  Downloading tokenizers-0.15.1-cp311-cp311-macosx_10_12_x86_64.whl.metadata (6.7 kB)\n",
      "Requirement already satisfied: safetensors>=0.3.1 in /Users/javierruiz/anaconda3/lib/python3.11/site-packages (from transformers==4.37.1->-r requirements.txt (line 2)) (0.3.2)\n",
      "Requirement already satisfied: python-dateutil>=2.8.2 in /Users/javierruiz/anaconda3/lib/python3.11/site-packages (from pandas==2.2.0->-r requirements.txt (line 3)) (2.8.2)\n",
      "Requirement already satisfied: pytz>=2020.1 in /Users/javierruiz/anaconda3/lib/python3.11/site-packages (from pandas==2.2.0->-r requirements.txt (line 3)) (2023.3.post1)\n",
      "Requirement already satisfied: tzdata>=2022.7 in /Users/javierruiz/anaconda3/lib/python3.11/site-packages (from pandas==2.2.0->-r requirements.txt (line 3)) (2023.3)\n",
      "Requirement already satisfied: sympy in /Users/javierruiz/anaconda3/lib/python3.11/site-packages (from torch==2.1.2->-r requirements.txt (line 4)) (1.11.1)\n",
      "Requirement already satisfied: networkx in /Users/javierruiz/anaconda3/lib/python3.11/site-packages (from torch==2.1.2->-r requirements.txt (line 4)) (3.1)\n",
      "Requirement already satisfied: jinja2 in /Users/javierruiz/anaconda3/lib/python3.11/site-packages (from torch==2.1.2->-r requirements.txt (line 4)) (3.1.2)\n",
      "Requirement already satisfied: fsspec in /Users/javierruiz/anaconda3/lib/python3.11/site-packages (from torch==2.1.2->-r requirements.txt (line 4)) (2023.4.0)\n",
      "Requirement already satisfied: idna>=2.8 in /Users/javierruiz/anaconda3/lib/python3.11/site-packages (from anyio<4,>=3.5.0->openai==1.1.0->-r requirements.txt (line 1)) (3.4)\n",
      "Requirement already satisfied: sniffio>=1.1 in /Users/javierruiz/anaconda3/lib/python3.11/site-packages (from anyio<4,>=3.5.0->openai==1.1.0->-r requirements.txt (line 1)) (1.2.0)\n",
      "Requirement already satisfied: certifi in /Users/javierruiz/anaconda3/lib/python3.11/site-packages (from httpx<1,>=0.23.0->openai==1.1.0->-r requirements.txt (line 1)) (2023.7.22)\n",
      "Collecting httpcore==1.* (from httpx<1,>=0.23.0->openai==1.1.0->-r requirements.txt (line 1))\n",
      "  Obtaining dependency information for httpcore==1.* from https://files.pythonhosted.org/packages/56/ba/78b0a99c4da0ff8b0f59defa2f13ca4668189b134bd9840b6202a93d9a0f/httpcore-1.0.2-py3-none-any.whl.metadata\n",
      "  Downloading httpcore-1.0.2-py3-none-any.whl.metadata (20 kB)\n",
      "Collecting h11<0.15,>=0.13 (from httpcore==1.*->httpx<1,>=0.23.0->openai==1.1.0->-r requirements.txt (line 1))\n",
      "  Using cached h11-0.14.0-py3-none-any.whl (58 kB)\n",
      "Collecting fsspec (from torch==2.1.2->-r requirements.txt (line 4))\n",
      "  Obtaining dependency information for fsspec from https://files.pythonhosted.org/packages/70/25/fab23259a52ece5670dcb8452e1af34b89e6135ecc17cd4b54b4b479eac6/fsspec-2023.12.2-py3-none-any.whl.metadata\n",
      "  Downloading fsspec-2023.12.2-py3-none-any.whl.metadata (6.8 kB)\n",
      "Requirement already satisfied: six>=1.5 in /Users/javierruiz/anaconda3/lib/python3.11/site-packages (from python-dateutil>=2.8.2->pandas==2.2.0->-r requirements.txt (line 3)) (1.16.0)\n",
      "Requirement already satisfied: MarkupSafe>=2.0 in /Users/javierruiz/anaconda3/lib/python3.11/site-packages (from jinja2->torch==2.1.2->-r requirements.txt (line 4)) (2.1.1)\n",
      "Requirement already satisfied: charset-normalizer<4,>=2 in /Users/javierruiz/anaconda3/lib/python3.11/site-packages (from requests->transformers==4.37.1->-r requirements.txt (line 2)) (2.0.4)\n",
      "Requirement already satisfied: urllib3<3,>=1.21.1 in /Users/javierruiz/anaconda3/lib/python3.11/site-packages (from requests->transformers==4.37.1->-r requirements.txt (line 2)) (1.26.16)\n",
      "Requirement already satisfied: mpmath>=0.19 in /Users/javierruiz/anaconda3/lib/python3.11/site-packages (from sympy->torch==2.1.2->-r requirements.txt (line 4)) (1.3.0)\n",
      "Downloading openai-1.1.0-py3-none-any.whl (217 kB)\n",
      "\u001b[2K   \u001b[90m━━━━━━━━━━━━━━━━━━━━━━━━━━━━━━━━━━━━━━━━\u001b[0m \u001b[32m217.5/217.5 kB\u001b[0m \u001b[31m5.4 MB/s\u001b[0m eta \u001b[36m0:00:00\u001b[0m\n",
      "\u001b[?25hDownloading transformers-4.37.1-py3-none-any.whl (8.4 MB)\n",
      "\u001b[2K   \u001b[90m━━━━━━━━━━━━━━━━━━━━━━━━━━━━━━━━━━━━━━━━\u001b[0m \u001b[32m8.4/8.4 MB\u001b[0m \u001b[31m18.6 MB/s\u001b[0m eta \u001b[36m0:00:00\u001b[0m00:01\u001b[0m00:01\u001b[0m\n",
      "\u001b[?25hDownloading pandas-2.2.0-cp311-cp311-macosx_10_9_x86_64.whl (12.5 MB)\n",
      "\u001b[2K   \u001b[90m━━━━━━━━━━━━━━━━━━━━━━━━━━━━━━━━━━━━━━━━\u001b[0m \u001b[32m12.5/12.5 MB\u001b[0m \u001b[31m13.1 MB/s\u001b[0m eta \u001b[36m0:00:00\u001b[0m00:01\u001b[0m00:01\u001b[0m\n",
      "\u001b[?25hDownloading torch-2.1.2-cp311-none-macosx_10_9_x86_64.whl (146.7 MB)\n",
      "\u001b[2K   \u001b[90m━━━━━━━━━━━━━━━━━━━━━━━━━━━━━━━━━━━━━━━━\u001b[0m \u001b[32m146.7/146.7 MB\u001b[0m \u001b[31m8.8 MB/s\u001b[0m eta \u001b[36m0:00:00\u001b[0m:00:01\u001b[0m00:01\u001b[0m\n",
      "\u001b[?25hDownloading distro-1.9.0-py3-none-any.whl (20 kB)\n",
      "Downloading httpx-0.26.0-py3-none-any.whl (75 kB)\n",
      "\u001b[2K   \u001b[90m━━━━━━━━━━━━━━━━━━━━━━━━━━━━━━━━━━━━━━━━\u001b[0m \u001b[32m75.9/75.9 kB\u001b[0m \u001b[31m2.4 MB/s\u001b[0m eta \u001b[36m0:00:00\u001b[0m\n",
      "\u001b[?25hDownloading httpcore-1.0.2-py3-none-any.whl (76 kB)\n",
      "\u001b[2K   \u001b[90m━━━━━━━━━━━━━━━━━━━━━━━━━━━━━━━━━━━━━━━━\u001b[0m \u001b[32m76.9/76.9 kB\u001b[0m \u001b[31m2.6 MB/s\u001b[0m eta \u001b[36m0:00:00\u001b[0m\n",
      "\u001b[?25hDownloading huggingface_hub-0.20.3-py3-none-any.whl (330 kB)\n",
      "\u001b[2K   \u001b[90m━━━━━━━━━━━━━━━━━━━━━━━━━━━━━━━━━━━━━━━━\u001b[0m \u001b[32m330.1/330.1 kB\u001b[0m \u001b[31m11.3 MB/s\u001b[0m eta \u001b[36m0:00:00\u001b[0m\n",
      "\u001b[?25hDownloading fsspec-2023.12.2-py3-none-any.whl (168 kB)\n",
      "\u001b[2K   \u001b[90m━━━━━━━━━━━━━━━━━━━━━━━━━━━━━━━━━━━━━━━━\u001b[0m \u001b[32m169.0/169.0 kB\u001b[0m \u001b[31m6.5 MB/s\u001b[0m eta \u001b[36m0:00:00\u001b[0m\n",
      "\u001b[?25hDownloading tokenizers-0.15.1-cp311-cp311-macosx_10_12_x86_64.whl (2.6 MB)\n",
      "\u001b[2K   \u001b[90m━━━━━━━━━━━━━━━━━━━━━━━━━━━━━━━━━━━━━━━━\u001b[0m \u001b[32m2.6/2.6 MB\u001b[0m \u001b[31m19.5 MB/s\u001b[0m eta \u001b[36m0:00:00\u001b[0m00:01\u001b[0m00:01\u001b[0m\n",
      "\u001b[?25hInstalling collected packages: h11, fsspec, distro, torch, pandas, huggingface-hub, httpcore, tokenizers, httpx, transformers, openai\n",
      "  Attempting uninstall: fsspec\n",
      "    Found existing installation: fsspec 2023.4.0\n",
      "    Uninstalling fsspec-2023.4.0:\n",
      "      Successfully uninstalled fsspec-2023.4.0\n",
      "  Attempting uninstall: pandas\n",
      "    Found existing installation: pandas 2.0.3\n",
      "    Uninstalling pandas-2.0.3:\n",
      "      Successfully uninstalled pandas-2.0.3\n",
      "  Attempting uninstall: huggingface-hub\n",
      "    Found existing installation: huggingface-hub 0.15.1\n",
      "    Uninstalling huggingface-hub-0.15.1:\n",
      "      Successfully uninstalled huggingface-hub-0.15.1\n",
      "  Attempting uninstall: tokenizers\n",
      "    Found existing installation: tokenizers 0.13.2\n",
      "    Uninstalling tokenizers-0.13.2:\n",
      "      Successfully uninstalled tokenizers-0.13.2\n",
      "  Attempting uninstall: transformers\n",
      "    Found existing installation: transformers 4.32.1\n",
      "    Uninstalling transformers-4.32.1:\n",
      "      Successfully uninstalled transformers-4.32.1\n",
      "\u001b[31mERROR: pip's dependency resolver does not currently take into account all the packages that are installed. This behaviour is the source of the following dependency conflicts.\n",
      "s3fs 2023.4.0 requires fsspec==2023.4.0, but you have fsspec 2023.12.2 which is incompatible.\u001b[0m\u001b[31m\n",
      "\u001b[0mSuccessfully installed distro-1.9.0 fsspec-2023.12.2 h11-0.14.0 httpcore-1.0.2 httpx-0.26.0 huggingface-hub-0.20.3 openai-1.1.0 pandas-2.2.0 tokenizers-0.15.1 torch-2.1.2 transformers-4.37.1\n"
     ]
    }
   ],
   "source": [
    "!pip install -r requirements.txt"
   ]
  },
  {
   "cell_type": "code",
   "execution_count": null,
   "id": "8be0da74-ba97-4932-9e6a-508165774f4d",
   "metadata": {},
   "outputs": [],
   "source": [
    "prompt = '''You are given a list of questions. You have to answer in a hilarious way as Elon Musk would do on Twitter. \n",
    "            The output is a json, the keys are the questions and the values the answer that you create. \n",
    "            Make the responses between 50 - 100 words long. \n",
    "            Add emojis and hashtags to increase the reach. \n",
    "            List of questions: [\"What’s the funniest thing that’s happened to you on a date?\",\n",
    "            \"If you could talk to animals, which animal would you chat with first?\",\n",
    "            \"What’s the most ridiculous thing you’ve ever bought online?\",\n",
    "            \"If you were a wrestler, what would be your entrance theme song?\",\n",
    "            \"What’s the funniest mispronunciation of your name you’ve ever heard?\",\n",
    "            \"If you could be a fly on the wall, where would you land?\",\n",
    "            \"What’s the most amusing piece of old technology you just can’t let go of?\",\n",
    "            \"Have you ever sent a text or email to the wrong person? What was it about?\",\n",
    "            \"If your life was a video game, what would the cheat codes do?\",\n",
    "            \"What’s the most hilarious piece of advice you’ve ever received?\",\n",
    "            \"If you could instantly become an expert in something, what would be the most useless skill to choose?\"]\n",
    "        '''"
   ]
  },
  {
   "cell_type": "code",
   "execution_count": 1,
   "id": "86d667f4-61cf-4b02-abf1-fd0d0d96650f",
   "metadata": {
    "tags": []
   },
   "outputs": [],
   "source": [
    "from pprint import pprint"
   ]
  },
  {
   "cell_type": "code",
   "execution_count": null,
   "id": "6da255e6-bde7-4692-bf12-085193e006b3",
   "metadata": {},
   "outputs": [],
   "source": []
  },
  {
   "cell_type": "code",
   "execution_count": null,
   "id": "c1b65a99-b93c-4eb9-8ef1-107720ad435d",
   "metadata": {},
   "outputs": [],
   "source": []
  },
  {
   "cell_type": "code",
   "execution_count": null,
   "id": "ea71501d-214e-4a43-b7a7-7192f987e539",
   "metadata": {},
   "outputs": [],
   "source": []
  }
 ],
 "metadata": {
  "kernelspec": {
   "display_name": "llm",
   "language": "python",
   "name": "llm"
  },
  "language_info": {
   "codemirror_mode": {
    "name": "ipython",
    "version": 3
   },
   "file_extension": ".py",
   "mimetype": "text/x-python",
   "name": "python",
   "nbconvert_exporter": "python",
   "pygments_lexer": "ipython3",
   "version": "3.11.4"
  }
 },
 "nbformat": 4,
 "nbformat_minor": 5
}
